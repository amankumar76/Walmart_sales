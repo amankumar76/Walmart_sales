{
 "cells": [
  {
   "cell_type": "markdown",
   "id": "3dee6d3d-d51b-4c34-8e3f-1b96d9d61341",
   "metadata": {},
   "source": [
    "#### Import module"
   ]
  },
  {
   "cell_type": "code",
   "execution_count": 31,
   "id": "575987f0-5242-4e46-81ef-e59333a4a1d9",
   "metadata": {},
   "outputs": [],
   "source": [
    "import pandas as pd\n",
    "import numpy as np"
   ]
  },
  {
   "cell_type": "markdown",
   "id": "b4a9aaba-5c22-4cd5-a658-0d467d79ed6c",
   "metadata": {},
   "source": [
    "#### Import Dataset(Table)"
   ]
  },
  {
   "cell_type": "code",
   "execution_count": 2,
   "id": "63acfaf7-73c0-41d2-b9cb-094159c1549c",
   "metadata": {},
   "outputs": [],
   "source": [
    "df = pd.read_excel(\"Walmart Sales.xlsx\")"
   ]
  },
  {
   "cell_type": "code",
   "execution_count": 4,
   "id": "56c45fd4-be77-4766-af71-c4c3ad0dcc52",
   "metadata": {
    "scrolled": true
   },
   "outputs": [
    {
     "data": {
      "text/html": [
       "<div>\n",
       "<style scoped>\n",
       "    .dataframe tbody tr th:only-of-type {\n",
       "        vertical-align: middle;\n",
       "    }\n",
       "\n",
       "    .dataframe tbody tr th {\n",
       "        vertical-align: top;\n",
       "    }\n",
       "\n",
       "    .dataframe thead th {\n",
       "        text-align: right;\n",
       "    }\n",
       "</style>\n",
       "<table border=\"1\" class=\"dataframe\">\n",
       "  <thead>\n",
       "    <tr style=\"text-align: right;\">\n",
       "      <th></th>\n",
       "      <th>Invoice ID</th>\n",
       "      <th>Branch</th>\n",
       "      <th>City</th>\n",
       "      <th>Customer type</th>\n",
       "      <th>Gender</th>\n",
       "      <th>Product line</th>\n",
       "      <th>Unit price</th>\n",
       "      <th>Quantity</th>\n",
       "      <th>Date</th>\n",
       "      <th>Time</th>\n",
       "      <th>Payment</th>\n",
       "      <th>Rating</th>\n",
       "    </tr>\n",
       "  </thead>\n",
       "  <tbody>\n",
       "    <tr>\n",
       "      <th>0</th>\n",
       "      <td>750-67-8428</td>\n",
       "      <td>A</td>\n",
       "      <td>Yangon</td>\n",
       "      <td>Member</td>\n",
       "      <td>Female</td>\n",
       "      <td>Health and beauty</td>\n",
       "      <td>74.69</td>\n",
       "      <td>7</td>\n",
       "      <td>1/5/2019</td>\n",
       "      <td>13:08:00</td>\n",
       "      <td>Ewallet</td>\n",
       "      <td>9.1</td>\n",
       "    </tr>\n",
       "    <tr>\n",
       "      <th>1</th>\n",
       "      <td>226-31-3081</td>\n",
       "      <td>A</td>\n",
       "      <td>Naypyitaw</td>\n",
       "      <td>Normal</td>\n",
       "      <td>Female</td>\n",
       "      <td>Electronic accessories</td>\n",
       "      <td>15.28</td>\n",
       "      <td>5</td>\n",
       "      <td>3/8/2019</td>\n",
       "      <td>10:29:00</td>\n",
       "      <td>Cash</td>\n",
       "      <td>9.6</td>\n",
       "    </tr>\n",
       "    <tr>\n",
       "      <th>2</th>\n",
       "      <td>631-41-3108</td>\n",
       "      <td>A</td>\n",
       "      <td>Yangon</td>\n",
       "      <td>Normal</td>\n",
       "      <td>Male</td>\n",
       "      <td>Home and lifestyle</td>\n",
       "      <td>46.33</td>\n",
       "      <td>7</td>\n",
       "      <td>3/3/2019</td>\n",
       "      <td>13:23:00</td>\n",
       "      <td>Credit card</td>\n",
       "      <td>7.4</td>\n",
       "    </tr>\n",
       "    <tr>\n",
       "      <th>3</th>\n",
       "      <td>123-19-1176</td>\n",
       "      <td>B</td>\n",
       "      <td>Yangon</td>\n",
       "      <td>Member</td>\n",
       "      <td>Male</td>\n",
       "      <td>Health and beauty</td>\n",
       "      <td>58.22</td>\n",
       "      <td>8</td>\n",
       "      <td>1/27/2019</td>\n",
       "      <td>20:33:00</td>\n",
       "      <td>Ewallet</td>\n",
       "      <td>8.4</td>\n",
       "    </tr>\n",
       "    <tr>\n",
       "      <th>4</th>\n",
       "      <td>373-73-7910</td>\n",
       "      <td>C</td>\n",
       "      <td>Yangon</td>\n",
       "      <td>Normal</td>\n",
       "      <td>Male</td>\n",
       "      <td>Sports and travel</td>\n",
       "      <td>86.31</td>\n",
       "      <td>7</td>\n",
       "      <td>2/8/2019</td>\n",
       "      <td>10:37:00</td>\n",
       "      <td>Ewallet</td>\n",
       "      <td>5.3</td>\n",
       "    </tr>\n",
       "    <tr>\n",
       "      <th>...</th>\n",
       "      <td>...</td>\n",
       "      <td>...</td>\n",
       "      <td>...</td>\n",
       "      <td>...</td>\n",
       "      <td>...</td>\n",
       "      <td>...</td>\n",
       "      <td>...</td>\n",
       "      <td>...</td>\n",
       "      <td>...</td>\n",
       "      <td>...</td>\n",
       "      <td>...</td>\n",
       "      <td>...</td>\n",
       "    </tr>\n",
       "    <tr>\n",
       "      <th>995</th>\n",
       "      <td>233-67-5758</td>\n",
       "      <td>A</td>\n",
       "      <td>Naypyitaw</td>\n",
       "      <td>Normal</td>\n",
       "      <td>Male</td>\n",
       "      <td>Health and beauty</td>\n",
       "      <td>40.35</td>\n",
       "      <td>1</td>\n",
       "      <td>1/29/2019</td>\n",
       "      <td>13:46:00</td>\n",
       "      <td>Ewallet</td>\n",
       "      <td>6.2</td>\n",
       "    </tr>\n",
       "    <tr>\n",
       "      <th>996</th>\n",
       "      <td>303-96-2227</td>\n",
       "      <td>A</td>\n",
       "      <td>Mandalay</td>\n",
       "      <td>Normal</td>\n",
       "      <td>Female</td>\n",
       "      <td>Home and lifestyle</td>\n",
       "      <td>97.38</td>\n",
       "      <td>10</td>\n",
       "      <td>3/2/2019</td>\n",
       "      <td>17:16:00</td>\n",
       "      <td>Ewallet</td>\n",
       "      <td>4.4</td>\n",
       "    </tr>\n",
       "    <tr>\n",
       "      <th>997</th>\n",
       "      <td>727-02-1313</td>\n",
       "      <td>A</td>\n",
       "      <td>Yangon</td>\n",
       "      <td>Member</td>\n",
       "      <td>Male</td>\n",
       "      <td>Food and beverages</td>\n",
       "      <td>31.84</td>\n",
       "      <td>1</td>\n",
       "      <td>2/9/2019</td>\n",
       "      <td>13:22:00</td>\n",
       "      <td>Cash</td>\n",
       "      <td>7.7</td>\n",
       "    </tr>\n",
       "    <tr>\n",
       "      <th>998</th>\n",
       "      <td>347-56-2442</td>\n",
       "      <td>B</td>\n",
       "      <td>Yangon</td>\n",
       "      <td>Normal</td>\n",
       "      <td>Male</td>\n",
       "      <td>Home and lifestyle</td>\n",
       "      <td>65.82</td>\n",
       "      <td>1</td>\n",
       "      <td>2/22/2019</td>\n",
       "      <td>15:33:00</td>\n",
       "      <td>Cash</td>\n",
       "      <td>4.1</td>\n",
       "    </tr>\n",
       "    <tr>\n",
       "      <th>999</th>\n",
       "      <td>849-09-3807</td>\n",
       "      <td>C</td>\n",
       "      <td>Yangon</td>\n",
       "      <td>Member</td>\n",
       "      <td>Female</td>\n",
       "      <td>Fashion accessories</td>\n",
       "      <td>88.34</td>\n",
       "      <td>7</td>\n",
       "      <td>2/18/2019</td>\n",
       "      <td>13:28:00</td>\n",
       "      <td>Cash</td>\n",
       "      <td>6.6</td>\n",
       "    </tr>\n",
       "  </tbody>\n",
       "</table>\n",
       "<p>1000 rows × 12 columns</p>\n",
       "</div>"
      ],
      "text/plain": [
       "      Invoice ID Branch       City Customer type  Gender  \\\n",
       "0    750-67-8428      A     Yangon        Member  Female   \n",
       "1    226-31-3081      A  Naypyitaw        Normal  Female   \n",
       "2    631-41-3108      A     Yangon        Normal    Male   \n",
       "3    123-19-1176      B     Yangon        Member    Male   \n",
       "4    373-73-7910      C     Yangon        Normal    Male   \n",
       "..           ...    ...        ...           ...     ...   \n",
       "995  233-67-5758      A  Naypyitaw        Normal    Male   \n",
       "996  303-96-2227      A   Mandalay        Normal  Female   \n",
       "997  727-02-1313      A     Yangon        Member    Male   \n",
       "998  347-56-2442      B     Yangon        Normal    Male   \n",
       "999  849-09-3807      C     Yangon        Member  Female   \n",
       "\n",
       "               Product line  Unit price  Quantity       Date      Time  \\\n",
       "0         Health and beauty       74.69         7   1/5/2019  13:08:00   \n",
       "1    Electronic accessories       15.28         5   3/8/2019  10:29:00   \n",
       "2        Home and lifestyle       46.33         7   3/3/2019  13:23:00   \n",
       "3         Health and beauty       58.22         8  1/27/2019  20:33:00   \n",
       "4         Sports and travel       86.31         7   2/8/2019  10:37:00   \n",
       "..                      ...         ...       ...        ...       ...   \n",
       "995       Health and beauty       40.35         1  1/29/2019  13:46:00   \n",
       "996      Home and lifestyle       97.38        10   3/2/2019  17:16:00   \n",
       "997      Food and beverages       31.84         1   2/9/2019  13:22:00   \n",
       "998      Home and lifestyle       65.82         1  2/22/2019  15:33:00   \n",
       "999     Fashion accessories       88.34         7  2/18/2019  13:28:00   \n",
       "\n",
       "         Payment  Rating  \n",
       "0        Ewallet     9.1  \n",
       "1           Cash     9.6  \n",
       "2    Credit card     7.4  \n",
       "3        Ewallet     8.4  \n",
       "4        Ewallet     5.3  \n",
       "..           ...     ...  \n",
       "995      Ewallet     6.2  \n",
       "996      Ewallet     4.4  \n",
       "997         Cash     7.7  \n",
       "998         Cash     4.1  \n",
       "999         Cash     6.6  \n",
       "\n",
       "[1000 rows x 12 columns]"
      ]
     },
     "execution_count": 4,
     "metadata": {},
     "output_type": "execute_result"
    }
   ],
   "source": [
    "df"
   ]
  },
  {
   "cell_type": "markdown",
   "id": "f39474d4-92d0-45e8-898a-5ede29abe540",
   "metadata": {},
   "source": [
    "#### Analyse Datatype of each column"
   ]
  },
  {
   "cell_type": "code",
   "execution_count": 25,
   "id": "36c32b4d-daea-41b4-b9c3-29fedf202936",
   "metadata": {},
   "outputs": [
    {
     "name": "stdout",
     "output_type": "stream",
     "text": [
      "<class 'pandas.core.frame.DataFrame'>\n",
      "RangeIndex: 1000 entries, 0 to 999\n",
      "Data columns (total 14 columns):\n",
      " #   Column         Non-Null Count  Dtype         \n",
      "---  ------         --------------  -----         \n",
      " 0   Invoice ID     1000 non-null   object        \n",
      " 1   Branch         1000 non-null   object        \n",
      " 2   City           1000 non-null   object        \n",
      " 3   Customer type  1000 non-null   object        \n",
      " 4   Gender         1000 non-null   object        \n",
      " 5   Product line   1000 non-null   object        \n",
      " 6   Unit price     1000 non-null   float64       \n",
      " 7   Quantity       1000 non-null   int64         \n",
      " 8   Date           1000 non-null   datetime64[ns]\n",
      " 9   Time           1000 non-null   object        \n",
      " 10  Payment        1000 non-null   object        \n",
      " 11  Rating         1000 non-null   float64       \n",
      " 12  Total          1000 non-null   float64       \n",
      " 13  YearMonth      1000 non-null   period[M]     \n",
      "dtypes: datetime64[ns](1), float64(3), int64(1), object(8), period[M](1)\n",
      "memory usage: 109.5+ KB\n"
     ]
    }
   ],
   "source": [
    "df.info()"
   ]
  },
  {
   "cell_type": "markdown",
   "id": "905d7806-6709-40c8-87ac-ca38b8fba70e",
   "metadata": {},
   "source": [
    "#### Description of Numeric column in Dataset"
   ]
  },
  {
   "cell_type": "code",
   "execution_count": 6,
   "id": "e2ce75c1-5ced-4d49-8f4a-f8828a85e598",
   "metadata": {},
   "outputs": [
    {
     "data": {
      "text/html": [
       "<div>\n",
       "<style scoped>\n",
       "    .dataframe tbody tr th:only-of-type {\n",
       "        vertical-align: middle;\n",
       "    }\n",
       "\n",
       "    .dataframe tbody tr th {\n",
       "        vertical-align: top;\n",
       "    }\n",
       "\n",
       "    .dataframe thead th {\n",
       "        text-align: right;\n",
       "    }\n",
       "</style>\n",
       "<table border=\"1\" class=\"dataframe\">\n",
       "  <thead>\n",
       "    <tr style=\"text-align: right;\">\n",
       "      <th></th>\n",
       "      <th>Unit price</th>\n",
       "      <th>Quantity</th>\n",
       "      <th>Rating</th>\n",
       "    </tr>\n",
       "  </thead>\n",
       "  <tbody>\n",
       "    <tr>\n",
       "      <th>count</th>\n",
       "      <td>1000.000000</td>\n",
       "      <td>1000.000000</td>\n",
       "      <td>1000.00000</td>\n",
       "    </tr>\n",
       "    <tr>\n",
       "      <th>mean</th>\n",
       "      <td>55.672130</td>\n",
       "      <td>5.510000</td>\n",
       "      <td>6.97270</td>\n",
       "    </tr>\n",
       "    <tr>\n",
       "      <th>std</th>\n",
       "      <td>26.494628</td>\n",
       "      <td>2.923431</td>\n",
       "      <td>1.71858</td>\n",
       "    </tr>\n",
       "    <tr>\n",
       "      <th>min</th>\n",
       "      <td>10.080000</td>\n",
       "      <td>1.000000</td>\n",
       "      <td>4.00000</td>\n",
       "    </tr>\n",
       "    <tr>\n",
       "      <th>25%</th>\n",
       "      <td>32.875000</td>\n",
       "      <td>3.000000</td>\n",
       "      <td>5.50000</td>\n",
       "    </tr>\n",
       "    <tr>\n",
       "      <th>50%</th>\n",
       "      <td>55.230000</td>\n",
       "      <td>5.000000</td>\n",
       "      <td>7.00000</td>\n",
       "    </tr>\n",
       "    <tr>\n",
       "      <th>75%</th>\n",
       "      <td>77.935000</td>\n",
       "      <td>8.000000</td>\n",
       "      <td>8.50000</td>\n",
       "    </tr>\n",
       "    <tr>\n",
       "      <th>max</th>\n",
       "      <td>99.960000</td>\n",
       "      <td>10.000000</td>\n",
       "      <td>10.00000</td>\n",
       "    </tr>\n",
       "  </tbody>\n",
       "</table>\n",
       "</div>"
      ],
      "text/plain": [
       "        Unit price     Quantity      Rating\n",
       "count  1000.000000  1000.000000  1000.00000\n",
       "mean     55.672130     5.510000     6.97270\n",
       "std      26.494628     2.923431     1.71858\n",
       "min      10.080000     1.000000     4.00000\n",
       "25%      32.875000     3.000000     5.50000\n",
       "50%      55.230000     5.000000     7.00000\n",
       "75%      77.935000     8.000000     8.50000\n",
       "max      99.960000    10.000000    10.00000"
      ]
     },
     "execution_count": 6,
     "metadata": {},
     "output_type": "execute_result"
    }
   ],
   "source": [
    "df.describe()"
   ]
  },
  {
   "cell_type": "markdown",
   "id": "ac4743cf-287e-499b-9f7e-b43d2d7e32a5",
   "metadata": {},
   "source": [
    "#### Finding missing cell in columns of Dataset"
   ]
  },
  {
   "cell_type": "code",
   "execution_count": 7,
   "id": "4f2530b7-95b4-400f-bc1e-8f11d22e65d7",
   "metadata": {},
   "outputs": [
    {
     "data": {
      "text/plain": [
       "Invoice ID       0\n",
       "Branch           0\n",
       "City             0\n",
       "Customer type    0\n",
       "Gender           0\n",
       "Product line     0\n",
       "Unit price       0\n",
       "Quantity         0\n",
       "Date             0\n",
       "Time             0\n",
       "Payment          0\n",
       "Rating           0\n",
       "dtype: int64"
      ]
     },
     "execution_count": 7,
     "metadata": {},
     "output_type": "execute_result"
    }
   ],
   "source": [
    "df.isnull().sum()"
   ]
  },
  {
   "cell_type": "markdown",
   "id": "d0e75fcd-5e11-4580-a6b2-67afa60caceb",
   "metadata": {},
   "source": [
    "#### For finding unique City name"
   ]
  },
  {
   "cell_type": "code",
   "execution_count": 26,
   "id": "3e358856-1f2a-419a-9b6b-2218734fb119",
   "metadata": {},
   "outputs": [
    {
     "data": {
      "text/plain": [
       "array(['Yangon', 'Naypyitaw', 'Mandalay'], dtype=object)"
      ]
     },
     "execution_count": 26,
     "metadata": {},
     "output_type": "execute_result"
    }
   ],
   "source": [
    "df[\"City\"].unique()"
   ]
  },
  {
   "cell_type": "markdown",
   "id": "548318a2-8e71-4325-90b5-712bfc689823",
   "metadata": {},
   "source": [
    "## A. Performance of sales and revenue at the city and branch level"
   ]
  },
  {
   "cell_type": "code",
   "execution_count": 9,
   "id": "d21652c2-8e1b-4a2a-842c-75b16370914c",
   "metadata": {},
   "outputs": [],
   "source": [
    "df['Date'] = pd.to_datetime(df['Date'])"
   ]
  },
  {
   "cell_type": "markdown",
   "id": "7658f4ff-bb03-40f9-a130-ada4569fc147",
   "metadata": {},
   "source": [
    "##### Revenue = Quantity * Unit price"
   ]
  },
  {
   "cell_type": "code",
   "execution_count": 38,
   "id": "e415d290-dac2-49b3-bf0a-85da3f7741ea",
   "metadata": {},
   "outputs": [],
   "source": [
    "df['Revenue'] = df['Quantity'] * df['Unit price']"
   ]
  },
  {
   "cell_type": "code",
   "execution_count": 41,
   "id": "aa2a7f69-18e0-4457-b0d0-74e91fa77cf2",
   "metadata": {},
   "outputs": [
    {
     "name": "stdout",
     "output_type": "stream",
     "text": [
      "   Quantity  Unit price  Revenue\n",
      "0         7       74.69   522.83\n",
      "1         5       15.28    76.40\n",
      "2         7       46.33   324.31\n",
      "3         8       58.22   465.76\n",
      "4         7       86.31   604.17\n"
     ]
    }
   ],
   "source": [
    "print(df[['Quantity', 'Unit price', 'Revenue']].head())"
   ]
  },
  {
   "cell_type": "code",
   "execution_count": 50,
   "id": "b3021724-fc23-4595-9544-e337ee538ac1",
   "metadata": {},
   "outputs": [
    {
     "name": "stdout",
     "output_type": "stream",
     "text": [
      "Total Revenue: 307,587.38\n",
      "Total Sales: 5510 units\n"
     ]
    }
   ],
   "source": [
    "total_revenue = df['Revenue'].sum()\n",
    "total_sales = df['Quantity'].sum()\n",
    "\n",
    "print(f\"Total Revenue: {total_revenue:,.2f}\")\n",
    "print(f\"Total Sales: {total_sales} units\")"
   ]
  },
  {
   "cell_type": "markdown",
   "id": "fa28816d-22f5-4f69-9f02-17cb44562936",
   "metadata": {},
   "source": [
    "#### Finding Unique Name of City"
   ]
  },
  {
   "cell_type": "code",
   "execution_count": 12,
   "id": "97a4cfd5-8f46-4d8f-b26b-a6622bcfb8fc",
   "metadata": {},
   "outputs": [
    {
     "data": {
      "text/plain": [
       "array(['Yangon', 'Naypyitaw', 'Mandalay'], dtype=object)"
      ]
     },
     "execution_count": 12,
     "metadata": {},
     "output_type": "execute_result"
    }
   ],
   "source": [
    "df['City'].unique()"
   ]
  },
  {
   "cell_type": "code",
   "execution_count": 51,
   "id": "44af20f2-875a-4d4f-ae6b-364f30ab503b",
   "metadata": {},
   "outputs": [],
   "source": [
    "grouped_data = df.groupby('City').agg(\n",
    "    Total_Revenue=('Revenue', 'sum'),\n",
    "    Total_Sales=('Quantity', 'sum')\n",
    ").reset_index()"
   ]
  },
  {
   "cell_type": "code",
   "execution_count": 47,
   "id": "8d319e88-d485-456c-a52c-cb6838698c57",
   "metadata": {},
   "outputs": [
    {
     "data": {
      "text/html": [
       "<div>\n",
       "<style scoped>\n",
       "    .dataframe tbody tr th:only-of-type {\n",
       "        vertical-align: middle;\n",
       "    }\n",
       "\n",
       "    .dataframe tbody tr th {\n",
       "        vertical-align: top;\n",
       "    }\n",
       "\n",
       "    .dataframe thead th {\n",
       "        text-align: right;\n",
       "    }\n",
       "</style>\n",
       "<table border=\"1\" class=\"dataframe\">\n",
       "  <thead>\n",
       "    <tr style=\"text-align: right;\">\n",
       "      <th></th>\n",
       "      <th>City</th>\n",
       "      <th>Total_Revenue</th>\n",
       "      <th>Total_Sales</th>\n",
       "    </tr>\n",
       "  </thead>\n",
       "  <tbody>\n",
       "    <tr>\n",
       "      <th>0</th>\n",
       "      <td>Mandalay</td>\n",
       "      <td>101140.64</td>\n",
       "      <td>1820</td>\n",
       "    </tr>\n",
       "    <tr>\n",
       "      <th>1</th>\n",
       "      <td>Naypyitaw</td>\n",
       "      <td>105303.53</td>\n",
       "      <td>1831</td>\n",
       "    </tr>\n",
       "    <tr>\n",
       "      <th>2</th>\n",
       "      <td>Yangon</td>\n",
       "      <td>101143.21</td>\n",
       "      <td>1859</td>\n",
       "    </tr>\n",
       "  </tbody>\n",
       "</table>\n",
       "</div>"
      ],
      "text/plain": [
       "        City  Total_Revenue  Total_Sales\n",
       "0   Mandalay      101140.64         1820\n",
       "1  Naypyitaw      105303.53         1831\n",
       "2     Yangon      101143.21         1859"
      ]
     },
     "execution_count": 47,
     "metadata": {},
     "output_type": "execute_result"
    }
   ],
   "source": [
    "grouped_data"
   ]
  },
  {
   "cell_type": "code",
   "execution_count": 52,
   "id": "4d23b236-2273-45b3-ab94-906938a301fc",
   "metadata": {},
   "outputs": [],
   "source": [
    "grouped_data = df.groupby('Branch').agg(\n",
    "    Total_Revenue=('Revenue', 'sum'),\n",
    "    Total_Sales=('Quantity', 'sum')\n",
    ").reset_index()"
   ]
  },
  {
   "cell_type": "code",
   "execution_count": 49,
   "id": "9edfc3b8-9687-4621-8c9c-ab310ff2f28a",
   "metadata": {},
   "outputs": [
    {
     "data": {
      "text/html": [
       "<div>\n",
       "<style scoped>\n",
       "    .dataframe tbody tr th:only-of-type {\n",
       "        vertical-align: middle;\n",
       "    }\n",
       "\n",
       "    .dataframe tbody tr th {\n",
       "        vertical-align: top;\n",
       "    }\n",
       "\n",
       "    .dataframe thead th {\n",
       "        text-align: right;\n",
       "    }\n",
       "</style>\n",
       "<table border=\"1\" class=\"dataframe\">\n",
       "  <thead>\n",
       "    <tr style=\"text-align: right;\">\n",
       "      <th></th>\n",
       "      <th>Branch</th>\n",
       "      <th>Total_Revenue</th>\n",
       "      <th>Total_Sales</th>\n",
       "    </tr>\n",
       "  </thead>\n",
       "  <tbody>\n",
       "    <tr>\n",
       "      <th>0</th>\n",
       "      <td>A</td>\n",
       "      <td>103763.00</td>\n",
       "      <td>1883</td>\n",
       "    </tr>\n",
       "    <tr>\n",
       "      <th>1</th>\n",
       "      <td>B</td>\n",
       "      <td>107567.19</td>\n",
       "      <td>1899</td>\n",
       "    </tr>\n",
       "    <tr>\n",
       "      <th>2</th>\n",
       "      <td>C</td>\n",
       "      <td>96257.19</td>\n",
       "      <td>1728</td>\n",
       "    </tr>\n",
       "  </tbody>\n",
       "</table>\n",
       "</div>"
      ],
      "text/plain": [
       "  Branch  Total_Revenue  Total_Sales\n",
       "0      A      103763.00         1883\n",
       "1      B      107567.19         1899\n",
       "2      C       96257.19         1728"
      ]
     },
     "execution_count": 49,
     "metadata": {},
     "output_type": "execute_result"
    }
   ],
   "source": [
    "grouped_data"
   ]
  },
  {
   "cell_type": "code",
   "execution_count": 53,
   "id": "0b4af7b2-ef7a-43db-acb5-50520c9dee0c",
   "metadata": {},
   "outputs": [],
   "source": [
    "grouped_data = df.groupby(['City', 'Branch']).agg(\n",
    "    Total_Revenue=('Revenue', 'sum'),\n",
    "    Total_Sales=('Quantity', 'sum')    \n",
    ").reset_index()"
   ]
  },
  {
   "cell_type": "code",
   "execution_count": 54,
   "id": "a5dda00d-055f-429b-a230-973844e40431",
   "metadata": {},
   "outputs": [
    {
     "data": {
      "text/html": [
       "<div>\n",
       "<style scoped>\n",
       "    .dataframe tbody tr th:only-of-type {\n",
       "        vertical-align: middle;\n",
       "    }\n",
       "\n",
       "    .dataframe tbody tr th {\n",
       "        vertical-align: top;\n",
       "    }\n",
       "\n",
       "    .dataframe thead th {\n",
       "        text-align: right;\n",
       "    }\n",
       "</style>\n",
       "<table border=\"1\" class=\"dataframe\">\n",
       "  <thead>\n",
       "    <tr style=\"text-align: right;\">\n",
       "      <th></th>\n",
       "      <th>City</th>\n",
       "      <th>Branch</th>\n",
       "      <th>Total_Revenue</th>\n",
       "      <th>Total_Sales</th>\n",
       "    </tr>\n",
       "  </thead>\n",
       "  <tbody>\n",
       "    <tr>\n",
       "      <th>0</th>\n",
       "      <td>Mandalay</td>\n",
       "      <td>A</td>\n",
       "      <td>34130.09</td>\n",
       "      <td>637</td>\n",
       "    </tr>\n",
       "    <tr>\n",
       "      <th>1</th>\n",
       "      <td>Mandalay</td>\n",
       "      <td>B</td>\n",
       "      <td>37215.93</td>\n",
       "      <td>664</td>\n",
       "    </tr>\n",
       "    <tr>\n",
       "      <th>2</th>\n",
       "      <td>Mandalay</td>\n",
       "      <td>C</td>\n",
       "      <td>29794.62</td>\n",
       "      <td>519</td>\n",
       "    </tr>\n",
       "    <tr>\n",
       "      <th>3</th>\n",
       "      <td>Naypyitaw</td>\n",
       "      <td>A</td>\n",
       "      <td>35985.64</td>\n",
       "      <td>648</td>\n",
       "    </tr>\n",
       "    <tr>\n",
       "      <th>4</th>\n",
       "      <td>Naypyitaw</td>\n",
       "      <td>B</td>\n",
       "      <td>35157.75</td>\n",
       "      <td>604</td>\n",
       "    </tr>\n",
       "    <tr>\n",
       "      <th>5</th>\n",
       "      <td>Naypyitaw</td>\n",
       "      <td>C</td>\n",
       "      <td>34160.14</td>\n",
       "      <td>579</td>\n",
       "    </tr>\n",
       "    <tr>\n",
       "      <th>6</th>\n",
       "      <td>Yangon</td>\n",
       "      <td>A</td>\n",
       "      <td>33647.27</td>\n",
       "      <td>598</td>\n",
       "    </tr>\n",
       "    <tr>\n",
       "      <th>7</th>\n",
       "      <td>Yangon</td>\n",
       "      <td>B</td>\n",
       "      <td>35193.51</td>\n",
       "      <td>631</td>\n",
       "    </tr>\n",
       "    <tr>\n",
       "      <th>8</th>\n",
       "      <td>Yangon</td>\n",
       "      <td>C</td>\n",
       "      <td>32302.43</td>\n",
       "      <td>630</td>\n",
       "    </tr>\n",
       "  </tbody>\n",
       "</table>\n",
       "</div>"
      ],
      "text/plain": [
       "        City Branch  Total_Revenue  Total_Sales\n",
       "0   Mandalay      A       34130.09          637\n",
       "1   Mandalay      B       37215.93          664\n",
       "2   Mandalay      C       29794.62          519\n",
       "3  Naypyitaw      A       35985.64          648\n",
       "4  Naypyitaw      B       35157.75          604\n",
       "5  Naypyitaw      C       34160.14          579\n",
       "6     Yangon      A       33647.27          598\n",
       "7     Yangon      B       35193.51          631\n",
       "8     Yangon      C       32302.43          630"
      ]
     },
     "execution_count": 54,
     "metadata": {},
     "output_type": "execute_result"
    }
   ],
   "source": [
    "grouped_data"
   ]
  },
  {
   "cell_type": "markdown",
   "id": "5b2a03c6-e545-4a87-821e-c1cd7d5b4757",
   "metadata": {},
   "source": [
    "#### B. What is the average price of an item sold at each branch of the city"
   ]
  },
  {
   "cell_type": "code",
   "execution_count": 15,
   "id": "4fc90476-7171-4e6e-b6ea-72c7ce3afae7",
   "metadata": {},
   "outputs": [
    {
     "data": {
      "text/html": [
       "<div>\n",
       "<style scoped>\n",
       "    .dataframe tbody tr th:only-of-type {\n",
       "        vertical-align: middle;\n",
       "    }\n",
       "\n",
       "    .dataframe tbody tr th {\n",
       "        vertical-align: top;\n",
       "    }\n",
       "\n",
       "    .dataframe thead th {\n",
       "        text-align: right;\n",
       "    }\n",
       "</style>\n",
       "<table border=\"1\" class=\"dataframe\">\n",
       "  <thead>\n",
       "    <tr style=\"text-align: right;\">\n",
       "      <th></th>\n",
       "      <th>City</th>\n",
       "      <th>Branch</th>\n",
       "      <th>Average_Price</th>\n",
       "    </tr>\n",
       "  </thead>\n",
       "  <tbody>\n",
       "    <tr>\n",
       "      <th>0</th>\n",
       "      <td>Mandalay</td>\n",
       "      <td>A</td>\n",
       "      <td>53.353866</td>\n",
       "    </tr>\n",
       "    <tr>\n",
       "      <th>1</th>\n",
       "      <td>Mandalay</td>\n",
       "      <td>B</td>\n",
       "      <td>56.133305</td>\n",
       "    </tr>\n",
       "    <tr>\n",
       "      <th>2</th>\n",
       "      <td>Mandalay</td>\n",
       "      <td>C</td>\n",
       "      <td>57.958316</td>\n",
       "    </tr>\n",
       "    <tr>\n",
       "      <th>3</th>\n",
       "      <td>Naypyitaw</td>\n",
       "      <td>A</td>\n",
       "      <td>54.123182</td>\n",
       "    </tr>\n",
       "    <tr>\n",
       "      <th>4</th>\n",
       "      <td>Naypyitaw</td>\n",
       "      <td>B</td>\n",
       "      <td>57.785688</td>\n",
       "    </tr>\n",
       "    <tr>\n",
       "      <th>5</th>\n",
       "      <td>Naypyitaw</td>\n",
       "      <td>C</td>\n",
       "      <td>57.941009</td>\n",
       "    </tr>\n",
       "    <tr>\n",
       "      <th>6</th>\n",
       "      <td>Yangon</td>\n",
       "      <td>A</td>\n",
       "      <td>55.639298</td>\n",
       "    </tr>\n",
       "    <tr>\n",
       "      <th>7</th>\n",
       "      <td>Yangon</td>\n",
       "      <td>B</td>\n",
       "      <td>56.011062</td>\n",
       "    </tr>\n",
       "    <tr>\n",
       "      <th>8</th>\n",
       "      <td>Yangon</td>\n",
       "      <td>C</td>\n",
       "      <td>52.684602</td>\n",
       "    </tr>\n",
       "  </tbody>\n",
       "</table>\n",
       "</div>"
      ],
      "text/plain": [
       "        City Branch  Average_Price\n",
       "0   Mandalay      A      53.353866\n",
       "1   Mandalay      B      56.133305\n",
       "2   Mandalay      C      57.958316\n",
       "3  Naypyitaw      A      54.123182\n",
       "4  Naypyitaw      B      57.785688\n",
       "5  Naypyitaw      C      57.941009\n",
       "6     Yangon      A      55.639298\n",
       "7     Yangon      B      56.011062\n",
       "8     Yangon      C      52.684602"
      ]
     },
     "execution_count": 15,
     "metadata": {},
     "output_type": "execute_result"
    }
   ],
   "source": [
    "average_price = df.groupby(['City', 'Branch']).agg(Average_Price=('Unit price', 'mean')).reset_index()\n",
    "average_price"
   ]
  },
  {
   "cell_type": "markdown",
   "id": "e671db29-7f7f-43e7-8d33-5a391638f972",
   "metadata": {},
   "source": [
    "#### C. Analyze the performance of sales and revenue, Month over Month across the Product line, Gender, and Payment Method"
   ]
  },
  {
   "cell_type": "code",
   "execution_count": 16,
   "id": "280c3f2d-9e55-45b6-bb98-fb2585ee93bd",
   "metadata": {},
   "outputs": [],
   "source": [
    "df['Date'] = pd.to_datetime(df['Date'])"
   ]
  },
  {
   "cell_type": "code",
   "execution_count": 17,
   "id": "9c59c7a1-82a4-403d-8448-45db01558d04",
   "metadata": {},
   "outputs": [],
   "source": [
    "df['YearMonth'] = df['Date'].dt.to_period('M')"
   ]
  },
  {
   "cell_type": "code",
   "execution_count": 18,
   "id": "9c15364d-c46a-44fe-b01c-b9fc5c5301ef",
   "metadata": {},
   "outputs": [],
   "source": [
    "data_2019 = df[df['Date'].dt.year == 2019]"
   ]
  },
  {
   "cell_type": "code",
   "execution_count": 19,
   "id": "e7ecb548-57df-4d27-a51e-6e9fe3e87d98",
   "metadata": {},
   "outputs": [],
   "source": [
    "monthly_performance = data_2019.groupby(['YearMonth', 'Product line', 'Gender', 'Payment']).agg({'Total': 'sum'}).reset_index()"
   ]
  },
  {
   "cell_type": "code",
   "execution_count": 20,
   "id": "8e525f3c-4af7-4bae-818f-750ca6f03107",
   "metadata": {},
   "outputs": [],
   "source": [
    "monthly_performance.sort_values(by=['YearMonth'], inplace=True)"
   ]
  },
  {
   "cell_type": "code",
   "execution_count": 21,
   "id": "b6e703a3-b10a-466e-b26b-886377d09c96",
   "metadata": {},
   "outputs": [
    {
     "name": "stdout",
     "output_type": "stream",
     "text": [
      "Monthly Sales Performance Across Product Line, Gender, and Payment :\n"
     ]
    },
    {
     "data": {
      "text/html": [
       "<div>\n",
       "<style scoped>\n",
       "    .dataframe tbody tr th:only-of-type {\n",
       "        vertical-align: middle;\n",
       "    }\n",
       "\n",
       "    .dataframe tbody tr th {\n",
       "        vertical-align: top;\n",
       "    }\n",
       "\n",
       "    .dataframe thead th {\n",
       "        text-align: right;\n",
       "    }\n",
       "</style>\n",
       "<table border=\"1\" class=\"dataframe\">\n",
       "  <thead>\n",
       "    <tr style=\"text-align: right;\">\n",
       "      <th></th>\n",
       "      <th>YearMonth</th>\n",
       "      <th>Product line</th>\n",
       "      <th>Gender</th>\n",
       "      <th>Payment</th>\n",
       "      <th>Total</th>\n",
       "    </tr>\n",
       "  </thead>\n",
       "  <tbody>\n",
       "    <tr>\n",
       "      <th>0</th>\n",
       "      <td>2019-01</td>\n",
       "      <td>Electronic accessories</td>\n",
       "      <td>Female</td>\n",
       "      <td>Cash</td>\n",
       "      <td>2731.86</td>\n",
       "    </tr>\n",
       "    <tr>\n",
       "      <th>20</th>\n",
       "      <td>2019-01</td>\n",
       "      <td>Health and beauty</td>\n",
       "      <td>Female</td>\n",
       "      <td>Ewallet</td>\n",
       "      <td>2471.17</td>\n",
       "    </tr>\n",
       "    <tr>\n",
       "      <th>21</th>\n",
       "      <td>2019-01</td>\n",
       "      <td>Health and beauty</td>\n",
       "      <td>Male</td>\n",
       "      <td>Cash</td>\n",
       "      <td>3732.94</td>\n",
       "    </tr>\n",
       "    <tr>\n",
       "      <th>22</th>\n",
       "      <td>2019-01</td>\n",
       "      <td>Health and beauty</td>\n",
       "      <td>Male</td>\n",
       "      <td>Credit card</td>\n",
       "      <td>3712.44</td>\n",
       "    </tr>\n",
       "    <tr>\n",
       "      <th>23</th>\n",
       "      <td>2019-01</td>\n",
       "      <td>Health and beauty</td>\n",
       "      <td>Male</td>\n",
       "      <td>Ewallet</td>\n",
       "      <td>3033.80</td>\n",
       "    </tr>\n",
       "    <tr>\n",
       "      <th>...</th>\n",
       "      <td>...</td>\n",
       "      <td>...</td>\n",
       "      <td>...</td>\n",
       "      <td>...</td>\n",
       "      <td>...</td>\n",
       "    </tr>\n",
       "    <tr>\n",
       "      <th>84</th>\n",
       "      <td>2019-03</td>\n",
       "      <td>Food and beverages</td>\n",
       "      <td>Female</td>\n",
       "      <td>Cash</td>\n",
       "      <td>3601.07</td>\n",
       "    </tr>\n",
       "    <tr>\n",
       "      <th>85</th>\n",
       "      <td>2019-03</td>\n",
       "      <td>Food and beverages</td>\n",
       "      <td>Female</td>\n",
       "      <td>Credit card</td>\n",
       "      <td>2566.32</td>\n",
       "    </tr>\n",
       "    <tr>\n",
       "      <th>86</th>\n",
       "      <td>2019-03</td>\n",
       "      <td>Food and beverages</td>\n",
       "      <td>Female</td>\n",
       "      <td>Ewallet</td>\n",
       "      <td>3230.27</td>\n",
       "    </tr>\n",
       "    <tr>\n",
       "      <th>88</th>\n",
       "      <td>2019-03</td>\n",
       "      <td>Food and beverages</td>\n",
       "      <td>Male</td>\n",
       "      <td>Credit card</td>\n",
       "      <td>1611.44</td>\n",
       "    </tr>\n",
       "    <tr>\n",
       "      <th>107</th>\n",
       "      <td>2019-03</td>\n",
       "      <td>Sports and travel</td>\n",
       "      <td>Male</td>\n",
       "      <td>Ewallet</td>\n",
       "      <td>4930.61</td>\n",
       "    </tr>\n",
       "  </tbody>\n",
       "</table>\n",
       "<p>108 rows × 5 columns</p>\n",
       "</div>"
      ],
      "text/plain": [
       "    YearMonth            Product line  Gender      Payment    Total\n",
       "0     2019-01  Electronic accessories  Female         Cash  2731.86\n",
       "20    2019-01       Health and beauty  Female      Ewallet  2471.17\n",
       "21    2019-01       Health and beauty    Male         Cash  3732.94\n",
       "22    2019-01       Health and beauty    Male  Credit card  3712.44\n",
       "23    2019-01       Health and beauty    Male      Ewallet  3033.80\n",
       "..        ...                     ...     ...          ...      ...\n",
       "84    2019-03      Food and beverages  Female         Cash  3601.07\n",
       "85    2019-03      Food and beverages  Female  Credit card  2566.32\n",
       "86    2019-03      Food and beverages  Female      Ewallet  3230.27\n",
       "88    2019-03      Food and beverages    Male  Credit card  1611.44\n",
       "107   2019-03       Sports and travel    Male      Ewallet  4930.61\n",
       "\n",
       "[108 rows x 5 columns]"
      ]
     },
     "execution_count": 21,
     "metadata": {},
     "output_type": "execute_result"
    }
   ],
   "source": [
    "print(\"Monthly Sales Performance Across Product Line, Gender, and Payment :\")\n",
    "monthly_performance"
   ]
  },
  {
   "cell_type": "code",
   "execution_count": 22,
   "id": "25eba119-086a-41b0-aab2-8ed322eb975f",
   "metadata": {},
   "outputs": [],
   "source": [
    "march_performance = monthly_performance[monthly_performance['YearMonth'] == '2019-03']\n",
    "low_areas = march_performance[march_performance['Total'] < march_performance['Total'].quantile(0.25)]"
   ]
  },
  {
   "cell_type": "code",
   "execution_count": 23,
   "id": "7da606ac-e56d-4d3c-a2a3-ec9532a872e3",
   "metadata": {},
   "outputs": [
    {
     "name": "stdout",
     "output_type": "stream",
     "text": [
      "\n",
      "Focus Areas to Improve Sales for April 2019:\n"
     ]
    },
    {
     "data": {
      "text/html": [
       "<div>\n",
       "<style scoped>\n",
       "    .dataframe tbody tr th:only-of-type {\n",
       "        vertical-align: middle;\n",
       "    }\n",
       "\n",
       "    .dataframe tbody tr th {\n",
       "        vertical-align: top;\n",
       "    }\n",
       "\n",
       "    .dataframe thead th {\n",
       "        text-align: right;\n",
       "    }\n",
       "</style>\n",
       "<table border=\"1\" class=\"dataframe\">\n",
       "  <thead>\n",
       "    <tr style=\"text-align: right;\">\n",
       "      <th></th>\n",
       "      <th>YearMonth</th>\n",
       "      <th>Product line</th>\n",
       "      <th>Gender</th>\n",
       "      <th>Payment</th>\n",
       "      <th>Total</th>\n",
       "    </tr>\n",
       "  </thead>\n",
       "  <tbody>\n",
       "    <tr>\n",
       "      <th>91</th>\n",
       "      <td>2019-03</td>\n",
       "      <td>Health and beauty</td>\n",
       "      <td>Female</td>\n",
       "      <td>Credit card</td>\n",
       "      <td>1767.17</td>\n",
       "    </tr>\n",
       "    <tr>\n",
       "      <th>92</th>\n",
       "      <td>2019-03</td>\n",
       "      <td>Health and beauty</td>\n",
       "      <td>Female</td>\n",
       "      <td>Ewallet</td>\n",
       "      <td>1874.93</td>\n",
       "    </tr>\n",
       "    <tr>\n",
       "      <th>102</th>\n",
       "      <td>2019-03</td>\n",
       "      <td>Sports and travel</td>\n",
       "      <td>Female</td>\n",
       "      <td>Cash</td>\n",
       "      <td>1799.53</td>\n",
       "    </tr>\n",
       "    <tr>\n",
       "      <th>90</th>\n",
       "      <td>2019-03</td>\n",
       "      <td>Health and beauty</td>\n",
       "      <td>Female</td>\n",
       "      <td>Cash</td>\n",
       "      <td>1555.04</td>\n",
       "    </tr>\n",
       "    <tr>\n",
       "      <th>87</th>\n",
       "      <td>2019-03</td>\n",
       "      <td>Food and beverages</td>\n",
       "      <td>Male</td>\n",
       "      <td>Cash</td>\n",
       "      <td>1779.42</td>\n",
       "    </tr>\n",
       "    <tr>\n",
       "      <th>76</th>\n",
       "      <td>2019-03</td>\n",
       "      <td>Electronic accessories</td>\n",
       "      <td>Male</td>\n",
       "      <td>Credit card</td>\n",
       "      <td>658.81</td>\n",
       "    </tr>\n",
       "    <tr>\n",
       "      <th>78</th>\n",
       "      <td>2019-03</td>\n",
       "      <td>Fashion accessories</td>\n",
       "      <td>Female</td>\n",
       "      <td>Cash</td>\n",
       "      <td>1445.19</td>\n",
       "    </tr>\n",
       "    <tr>\n",
       "      <th>82</th>\n",
       "      <td>2019-03</td>\n",
       "      <td>Fashion accessories</td>\n",
       "      <td>Male</td>\n",
       "      <td>Credit card</td>\n",
       "      <td>1631.35</td>\n",
       "    </tr>\n",
       "    <tr>\n",
       "      <th>88</th>\n",
       "      <td>2019-03</td>\n",
       "      <td>Food and beverages</td>\n",
       "      <td>Male</td>\n",
       "      <td>Credit card</td>\n",
       "      <td>1611.44</td>\n",
       "    </tr>\n",
       "  </tbody>\n",
       "</table>\n",
       "</div>"
      ],
      "text/plain": [
       "    YearMonth            Product line  Gender      Payment    Total\n",
       "91    2019-03       Health and beauty  Female  Credit card  1767.17\n",
       "92    2019-03       Health and beauty  Female      Ewallet  1874.93\n",
       "102   2019-03       Sports and travel  Female         Cash  1799.53\n",
       "90    2019-03       Health and beauty  Female         Cash  1555.04\n",
       "87    2019-03      Food and beverages    Male         Cash  1779.42\n",
       "76    2019-03  Electronic accessories    Male  Credit card   658.81\n",
       "78    2019-03     Fashion accessories  Female         Cash  1445.19\n",
       "82    2019-03     Fashion accessories    Male  Credit card  1631.35\n",
       "88    2019-03      Food and beverages    Male  Credit card  1611.44"
      ]
     },
     "execution_count": 23,
     "metadata": {},
     "output_type": "execute_result"
    }
   ],
   "source": [
    "print(\"\\nFocus Areas to Improve Sales for April 2019:\")\n",
    "low_areas"
   ]
  },
  {
   "cell_type": "code",
   "execution_count": null,
   "id": "7d63055a-9c8f-4961-92c1-a159be673da8",
   "metadata": {},
   "outputs": [],
   "source": []
  }
 ],
 "metadata": {
  "kernelspec": {
   "display_name": "Python 3 (ipykernel)",
   "language": "python",
   "name": "python3"
  },
  "language_info": {
   "codemirror_mode": {
    "name": "ipython",
    "version": 3
   },
   "file_extension": ".py",
   "mimetype": "text/x-python",
   "name": "python",
   "nbconvert_exporter": "python",
   "pygments_lexer": "ipython3",
   "version": "3.11.7"
  }
 },
 "nbformat": 4,
 "nbformat_minor": 5
}
